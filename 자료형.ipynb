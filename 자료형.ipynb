{
  "nbformat": 4,
  "nbformat_minor": 0,
  "metadata": {
    "colab": {
      "provenance": [],
      "authorship_tag": "ABX9TyMb6zXrmEQuVDxyVxB4rhX4",
      "include_colab_link": true
    },
    "kernelspec": {
      "name": "python3",
      "display_name": "Python 3"
    },
    "language_info": {
      "name": "python"
    }
  },
  "cells": [
    {
      "cell_type": "markdown",
      "metadata": {
        "id": "view-in-github",
        "colab_type": "text"
      },
      "source": [
        "<a href=\"https://colab.research.google.com/github/hsy-mbc/python25_study/blob/main/%EC%9E%90%EB%A3%8C%ED%98%95.ipynb\" target=\"_parent\"><img src=\"https://colab.research.google.com/assets/colab-badge.svg\" alt=\"Open In Colab\"/></a>"
      ]
    },
    {
      "cell_type": "code",
      "execution_count": 10,
      "metadata": {
        "colab": {
          "base_uri": "https://localhost:8080/"
        },
        "id": "nouohBvJzgeN",
        "outputId": "c840a316-853b-4329-bdd5-490bf4390138"
      },
      "outputs": [
        {
          "output_type": "execute_result",
          "data": {
            "text/plain": [
              "True"
            ]
          },
          "metadata": {},
          "execution_count": 10
        }
      ],
      "source": [
        "a = 256\n",
        "b = 256\n",
        "a == b\n",
        "a is b"
      ]
    },
    {
      "cell_type": "code",
      "source": [
        "a = 257\n",
        "b = 257\n",
        "a == b\n",
        "a is b"
      ],
      "metadata": {
        "colab": {
          "base_uri": "https://localhost:8080/"
        },
        "id": "z8eyQplE5Wra",
        "outputId": "76df3223-cf2b-4752-830d-627dcc6da932"
      },
      "execution_count": 12,
      "outputs": [
        {
          "output_type": "execute_result",
          "data": {
            "text/plain": [
              "False"
            ]
          },
          "metadata": {},
          "execution_count": 12
        }
      ]
    },
    {
      "cell_type": "code",
      "source": [
        "import random\n",
        "\n",
        "a = random.randint(1, 50)\n",
        "if a > 30:\n",
        "  print('win')\n",
        "else:\n",
        "  print('lose')"
      ],
      "metadata": {
        "colab": {
          "base_uri": "https://localhost:8080/"
        },
        "id": "wq3vBzGEARTy",
        "outputId": "7cee7251-322d-4425-d912-286acca06f40"
      },
      "execution_count": 97,
      "outputs": [
        {
          "output_type": "stream",
          "name": "stdout",
          "text": [
            "lose\n"
          ]
        }
      ]
    },
    {
      "cell_type": "code",
      "source": [
        "a = [1, 2, 3] # 리스트 요소값 변경 가능\n",
        "b = 1, 2, 3 # 튜플 요소값 변경 불가(상수랑 비슷한 개념)"
      ],
      "metadata": {
        "id": "HoZEmbCJB8ui"
      },
      "execution_count": null,
      "outputs": []
    },
    {
      "cell_type": "code",
      "source": [
        "# 딕셔너리 (해시)\n",
        "# key, value 자료형\n",
        "a = {'x': 6, 'y': 7, 'z': 10}\n",
        "a['length'] = 24\n",
        "del a['z']\n",
        "print(a)\n",
        "print(a.keys())\n",
        "print(a.values())\n",
        "print(a.items())"
      ],
      "metadata": {
        "colab": {
          "base_uri": "https://localhost:8080/"
        },
        "id": "HuNcfxSaCQqB",
        "outputId": "ece83964-1785-4fe5-9b08-b0943e670bea"
      },
      "execution_count": 111,
      "outputs": [
        {
          "output_type": "stream",
          "name": "stdout",
          "text": [
            "24\n",
            "{'x': 6, 'y': 7, 'length': 24}\n",
            "dict_keys(['x', 'y', 'length'])\n",
            "dict_values([6, 7, 24])\n",
            "dict_items([('x', 6), ('y', 7), ('length', 24)])\n"
          ]
        }
      ]
    },
    {
      "cell_type": "code",
      "source": [
        "# 집합\n",
        "# 순서가 없다, 중복을 허용하지 않는다\n",
        "a = set('hello')\n",
        "print(a)\n",
        "b = [1, 2, 3]\n",
        "c = set(b)\n",
        "c"
      ],
      "metadata": {
        "colab": {
          "base_uri": "https://localhost:8080/"
        },
        "id": "VoTXtgarE6XS",
        "outputId": "c5561301-25c2-4925-a39b-b17412542486"
      },
      "execution_count": 116,
      "outputs": [
        {
          "output_type": "stream",
          "name": "stdout",
          "text": [
            "{'h', 'e', 'o', 'l'}\n"
          ]
        },
        {
          "output_type": "execute_result",
          "data": {
            "text/plain": [
              "{1, 2, 3}"
            ]
          },
          "metadata": {},
          "execution_count": 116
        }
      ]
    },
    {
      "cell_type": "code",
      "source": [
        "s1 = set([1, 2, 3, 4, 5, 6])\n",
        "s2 = set([4, 5, 6, 7, 8, 9])\n",
        "print(s1 & s2)\n",
        "print(s1.intersection(s2))\n",
        "print(s1 | s2)\n",
        "print(s1.union(s2))\n",
        "print(s1 - s2)\n",
        "print(s1.difference(s2))"
      ],
      "metadata": {
        "colab": {
          "base_uri": "https://localhost:8080/"
        },
        "id": "RvAEUl0JFpb6",
        "outputId": "31ee9135-24f3-4e22-dd46-d30340b61f17"
      },
      "execution_count": 123,
      "outputs": [
        {
          "output_type": "stream",
          "name": "stdout",
          "text": [
            "{4, 5, 6}\n",
            "{4, 5, 6}\n",
            "{1, 2, 3, 4, 5, 6, 7, 8, 9}\n",
            "{1, 2, 3, 4, 5, 6, 7, 8, 9}\n",
            "{1, 2, 3}\n",
            "{1, 2, 3}\n"
          ]
        }
      ]
    }
  ]
}